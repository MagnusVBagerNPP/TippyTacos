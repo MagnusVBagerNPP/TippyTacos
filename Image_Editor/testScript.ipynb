{
 "cells": [
  {
   "cell_type": "code",
   "execution_count": null,
   "metadata": {
    "dotnet_interactive": {
     "language": "csharp"
    },
    "polyglot_notebook": {
     "kernelName": "csharp"
    },
    "vscode": {
     "languageId": "polyglot-notebook"
    }
   },
   "outputs": [
    {
     "data": {
      "text/plain": [
       "010001000000000000000000000010000010111110"
      ]
     },
     "metadata": {},
     "output_type": "display_data"
    }
   ],
   "source": [
    "using System.IO;\n",
    "StreamReader sr = new StreamReader(\"../smile.b2img.txt\");\n",
    "string[] bit_params = sr.ReadLine().Split(' ');\n",
    "\n",
    "int height;\n",
    "int width;\n",
    "\n",
    "try {\n",
    "    height = int.Parse(bit_params[0]);\n",
    "    width = int.Parse(bit_params[1]);\n",
    "} catch (FormatException) {\n",
    "    Console.WriteLine(\"Error, file corrupted\");\n",
    "} catch (Exception e) {\n",
    "    Console.WriteLine($\"Error: {e.Message}\");\n",
    "}\n",
    "    \n",
    "string bits = sr.ReadLine();"
   ]
  },
  {
   "cell_type": "code",
   "execution_count": null,
   "metadata": {
    "dotnet_interactive": {
     "language": "csharp"
    },
    "polyglot_notebook": {
     "kernelName": "csharp"
    },
    "vscode": {
     "languageId": "polyglot-notebook"
    }
   },
   "outputs": [],
   "source": [
    "class Cell\n",
    "    {\n",
    "        public int RowNumber { get; set; }\n",
    "        public int ColumnNumber { get; set; }\n",
    "        public char IsColored { get; set; }\n",
    "\n",
    "        public Cell(int x, int y)\n",
    "        {\n",
    "            RowNumber = x;\n",
    "            ColumnNumber = y;\n",
    "        }\n",
    "    }\n"
   ]
  },
  {
   "cell_type": "code",
   "execution_count": 12,
   "metadata": {
    "dotnet_interactive": {
     "language": "csharp"
    },
    "polyglot_notebook": {
     "kernelName": "csharp"
    },
    "vscode": {
     "languageId": "polyglot-notebook"
    }
   },
   "outputs": [
    {
     "data": {
      "text/html": [
       "<table><thead><tr><th><i>index</i></th><th>value</th></tr></thead><tbody><tr><td>0</td><td><details class=\"dni-treeview\"><summary><span class=\"dni-code-hint\"><code>Submission#9+Cell</code></span></summary><div><table><thead><tr></tr></thead><tbody><tr><td>RowNumber</td><td><div class=\"dni-plaintext\"><pre>0</pre></div></td></tr><tr><td>ColumnNumber</td><td><div class=\"dni-plaintext\"><pre>0</pre></div></td></tr><tr><td>IsColored</td><td><div class=\"dni-plaintext\"><pre>0</pre></div></td></tr></tbody></table></div></details></td></tr><tr><td>1</td><td><details class=\"dni-treeview\"><summary><span class=\"dni-code-hint\"><code>Submission#9+Cell</code></span></summary><div><table><thead><tr></tr></thead><tbody><tr><td>RowNumber</td><td><div class=\"dni-plaintext\"><pre>0</pre></div></td></tr><tr><td>ColumnNumber</td><td><div class=\"dni-plaintext\"><pre>1</pre></div></td></tr><tr><td>IsColored</td><td><div class=\"dni-plaintext\"><pre>1</pre></div></td></tr></tbody></table></div></details></td></tr><tr><td>2</td><td><details class=\"dni-treeview\"><summary><span class=\"dni-code-hint\"><code>Submission#9+Cell</code></span></summary><div><table><thead><tr></tr></thead><tbody><tr><td>RowNumber</td><td><div class=\"dni-plaintext\"><pre>0</pre></div></td></tr><tr><td>ColumnNumber</td><td><div class=\"dni-plaintext\"><pre>2</pre></div></td></tr><tr><td>IsColored</td><td><div class=\"dni-plaintext\"><pre>0</pre></div></td></tr></tbody></table></div></details></td></tr><tr><td>3</td><td><details class=\"dni-treeview\"><summary><span class=\"dni-code-hint\"><code>Submission#9+Cell</code></span></summary><div><table><thead><tr></tr></thead><tbody><tr><td>RowNumber</td><td><div class=\"dni-plaintext\"><pre>0</pre></div></td></tr><tr><td>ColumnNumber</td><td><div class=\"dni-plaintext\"><pre>3</pre></div></td></tr><tr><td>IsColored</td><td><div class=\"dni-plaintext\"><pre>0</pre></div></td></tr></tbody></table></div></details></td></tr><tr><td>4</td><td><details class=\"dni-treeview\"><summary><span class=\"dni-code-hint\"><code>Submission#9+Cell</code></span></summary><div><table><thead><tr></tr></thead><tbody><tr><td>RowNumber</td><td><div class=\"dni-plaintext\"><pre>0</pre></div></td></tr><tr><td>ColumnNumber</td><td><div class=\"dni-plaintext\"><pre>4</pre></div></td></tr><tr><td>IsColored</td><td><div class=\"dni-plaintext\"><pre>0</pre></div></td></tr></tbody></table></div></details></td></tr><tr><td>5</td><td><details class=\"dni-treeview\"><summary><span class=\"dni-code-hint\"><code>Submission#9+Cell</code></span></summary><div><table><thead><tr></tr></thead><tbody><tr><td>RowNumber</td><td><div class=\"dni-plaintext\"><pre>0</pre></div></td></tr><tr><td>ColumnNumber</td><td><div class=\"dni-plaintext\"><pre>5</pre></div></td></tr><tr><td>IsColored</td><td><div class=\"dni-plaintext\"><pre>1</pre></div></td></tr></tbody></table></div></details></td></tr><tr><td>6</td><td><details class=\"dni-treeview\"><summary><span class=\"dni-code-hint\"><code>Submission#9+Cell</code></span></summary><div><table><thead><tr></tr></thead><tbody><tr><td>RowNumber</td><td><div class=\"dni-plaintext\"><pre>0</pre></div></td></tr><tr><td>ColumnNumber</td><td><div class=\"dni-plaintext\"><pre>6</pre></div></td></tr><tr><td>IsColored</td><td><div class=\"dni-plaintext\"><pre>0</pre></div></td></tr></tbody></table></div></details></td></tr><tr><td>7</td><td><details class=\"dni-treeview\"><summary><span class=\"dni-code-hint\"><code>Submission#9+Cell</code></span></summary><div><table><thead><tr></tr></thead><tbody><tr><td>RowNumber</td><td><div class=\"dni-plaintext\"><pre>1</pre></div></td></tr><tr><td>ColumnNumber</td><td><div class=\"dni-plaintext\"><pre>0</pre></div></td></tr><tr><td>IsColored</td><td><div class=\"dni-plaintext\"><pre>0</pre></div></td></tr></tbody></table></div></details></td></tr><tr><td>8</td><td><details class=\"dni-treeview\"><summary><span class=\"dni-code-hint\"><code>Submission#9+Cell</code></span></summary><div><table><thead><tr></tr></thead><tbody><tr><td>RowNumber</td><td><div class=\"dni-plaintext\"><pre>1</pre></div></td></tr><tr><td>ColumnNumber</td><td><div class=\"dni-plaintext\"><pre>1</pre></div></td></tr><tr><td>IsColored</td><td><div class=\"dni-plaintext\"><pre>0</pre></div></td></tr></tbody></table></div></details></td></tr><tr><td>9</td><td><details class=\"dni-treeview\"><summary><span class=\"dni-code-hint\"><code>Submission#9+Cell</code></span></summary><div><table><thead><tr></tr></thead><tbody><tr><td>RowNumber</td><td><div class=\"dni-plaintext\"><pre>1</pre></div></td></tr><tr><td>ColumnNumber</td><td><div class=\"dni-plaintext\"><pre>2</pre></div></td></tr><tr><td>IsColored</td><td><div class=\"dni-plaintext\"><pre>0</pre></div></td></tr></tbody></table></div></details></td></tr><tr><td>10</td><td><details class=\"dni-treeview\"><summary><span class=\"dni-code-hint\"><code>Submission#9+Cell</code></span></summary><div><table><thead><tr></tr></thead><tbody><tr><td>RowNumber</td><td><div class=\"dni-plaintext\"><pre>1</pre></div></td></tr><tr><td>ColumnNumber</td><td><div class=\"dni-plaintext\"><pre>3</pre></div></td></tr><tr><td>IsColored</td><td><div class=\"dni-plaintext\"><pre>0</pre></div></td></tr></tbody></table></div></details></td></tr><tr><td>11</td><td><details class=\"dni-treeview\"><summary><span class=\"dni-code-hint\"><code>Submission#9+Cell</code></span></summary><div><table><thead><tr></tr></thead><tbody><tr><td>RowNumber</td><td><div class=\"dni-plaintext\"><pre>1</pre></div></td></tr><tr><td>ColumnNumber</td><td><div class=\"dni-plaintext\"><pre>4</pre></div></td></tr><tr><td>IsColored</td><td><div class=\"dni-plaintext\"><pre>0</pre></div></td></tr></tbody></table></div></details></td></tr><tr><td>12</td><td><details class=\"dni-treeview\"><summary><span class=\"dni-code-hint\"><code>Submission#9+Cell</code></span></summary><div><table><thead><tr></tr></thead><tbody><tr><td>RowNumber</td><td><div class=\"dni-plaintext\"><pre>1</pre></div></td></tr><tr><td>ColumnNumber</td><td><div class=\"dni-plaintext\"><pre>5</pre></div></td></tr><tr><td>IsColored</td><td><div class=\"dni-plaintext\"><pre>0</pre></div></td></tr></tbody></table></div></details></td></tr><tr><td>13</td><td><details class=\"dni-treeview\"><summary><span class=\"dni-code-hint\"><code>Submission#9+Cell</code></span></summary><div><table><thead><tr></tr></thead><tbody><tr><td>RowNumber</td><td><div class=\"dni-plaintext\"><pre>1</pre></div></td></tr><tr><td>ColumnNumber</td><td><div class=\"dni-plaintext\"><pre>6</pre></div></td></tr><tr><td>IsColored</td><td><div class=\"dni-plaintext\"><pre>0</pre></div></td></tr></tbody></table></div></details></td></tr><tr><td>14</td><td><details class=\"dni-treeview\"><summary><span class=\"dni-code-hint\"><code>Submission#9+Cell</code></span></summary><div><table><thead><tr></tr></thead><tbody><tr><td>RowNumber</td><td><div class=\"dni-plaintext\"><pre>2</pre></div></td></tr><tr><td>ColumnNumber</td><td><div class=\"dni-plaintext\"><pre>0</pre></div></td></tr><tr><td>IsColored</td><td><div class=\"dni-plaintext\"><pre>0</pre></div></td></tr></tbody></table></div></details></td></tr><tr><td>15</td><td><details class=\"dni-treeview\"><summary><span class=\"dni-code-hint\"><code>Submission#9+Cell</code></span></summary><div><table><thead><tr></tr></thead><tbody><tr><td>RowNumber</td><td><div class=\"dni-plaintext\"><pre>2</pre></div></td></tr><tr><td>ColumnNumber</td><td><div class=\"dni-plaintext\"><pre>1</pre></div></td></tr><tr><td>IsColored</td><td><div class=\"dni-plaintext\"><pre>0</pre></div></td></tr></tbody></table></div></details></td></tr><tr><td>16</td><td><details class=\"dni-treeview\"><summary><span class=\"dni-code-hint\"><code>Submission#9+Cell</code></span></summary><div><table><thead><tr></tr></thead><tbody><tr><td>RowNumber</td><td><div class=\"dni-plaintext\"><pre>2</pre></div></td></tr><tr><td>ColumnNumber</td><td><div class=\"dni-plaintext\"><pre>2</pre></div></td></tr><tr><td>IsColored</td><td><div class=\"dni-plaintext\"><pre>0</pre></div></td></tr></tbody></table></div></details></td></tr><tr><td>17</td><td><details class=\"dni-treeview\"><summary><span class=\"dni-code-hint\"><code>Submission#9+Cell</code></span></summary><div><table><thead><tr></tr></thead><tbody><tr><td>RowNumber</td><td><div class=\"dni-plaintext\"><pre>2</pre></div></td></tr><tr><td>ColumnNumber</td><td><div class=\"dni-plaintext\"><pre>3</pre></div></td></tr><tr><td>IsColored</td><td><div class=\"dni-plaintext\"><pre>0</pre></div></td></tr></tbody></table></div></details></td></tr><tr><td>18</td><td><details class=\"dni-treeview\"><summary><span class=\"dni-code-hint\"><code>Submission#9+Cell</code></span></summary><div><table><thead><tr></tr></thead><tbody><tr><td>RowNumber</td><td><div class=\"dni-plaintext\"><pre>2</pre></div></td></tr><tr><td>ColumnNumber</td><td><div class=\"dni-plaintext\"><pre>4</pre></div></td></tr><tr><td>IsColored</td><td><div class=\"dni-plaintext\"><pre>0</pre></div></td></tr></tbody></table></div></details></td></tr><tr><td>19</td><td><details class=\"dni-treeview\"><summary><span class=\"dni-code-hint\"><code>Submission#9+Cell</code></span></summary><div><table><thead><tr></tr></thead><tbody><tr><td>RowNumber</td><td><div class=\"dni-plaintext\"><pre>2</pre></div></td></tr><tr><td>ColumnNumber</td><td><div class=\"dni-plaintext\"><pre>5</pre></div></td></tr><tr><td>IsColored</td><td><div class=\"dni-plaintext\"><pre>0</pre></div></td></tr></tbody></table></div></details></td></tr><tr><td colspan=\"2\"><i>(22 more)</i></td></tr></tbody></table><style>\r\n",
       ".dni-code-hint {\r\n",
       "    font-style: italic;\r\n",
       "    overflow: hidden;\r\n",
       "    white-space: nowrap;\r\n",
       "}\r\n",
       ".dni-treeview {\r\n",
       "    white-space: nowrap;\r\n",
       "}\r\n",
       ".dni-treeview td {\r\n",
       "    vertical-align: top;\r\n",
       "    text-align: start;\r\n",
       "}\r\n",
       "details.dni-treeview {\r\n",
       "    padding-left: 1em;\r\n",
       "}\r\n",
       "table td {\r\n",
       "    text-align: start;\r\n",
       "}\r\n",
       "table tr { \r\n",
       "    vertical-align: top; \r\n",
       "    margin: 0em 0px;\r\n",
       "}\r\n",
       "table tr td pre \r\n",
       "{ \r\n",
       "    vertical-align: top !important; \r\n",
       "    margin: 0em 0px !important;\r\n",
       "} \r\n",
       "table th {\r\n",
       "    text-align: start;\r\n",
       "}\r\n",
       "</style>"
      ]
     },
     "metadata": {},
     "output_type": "display_data"
    }
   ],
   "source": [
    "Cell[,] bitmap = new Cell[height, width];\n",
    "// filling 2D array with individual cells\n",
    "for (int i = 0; i < height; i++)\n",
    "    {\n",
    "        for (int j = 0; j < width; j++)\n",
    "        {\n",
    "            int index = i * width + j;  // Calculate the index in the binary string\n",
    "            bitmap[i, j] = new Cell(i,j); \n",
    "            bitmap[i, j].IsColored = bits[index]; // Convert '0' or '1' to integer\n",
    "        }\n",
    "    }\n",
    "bitmap"
   ]
  }
 ],
 "metadata": {
  "kernelspec": {
   "display_name": ".NET (C#)",
   "language": "C#",
   "name": ".net-csharp"
  },
  "language_info": {
   "name": "csharp"
  },
  "polyglot_notebook": {
   "kernelInfo": {
    "defaultKernelName": "csharp",
    "items": [
     {
      "aliases": [],
      "name": "csharp"
     }
    ]
   }
  }
 },
 "nbformat": 4,
 "nbformat_minor": 2
}
